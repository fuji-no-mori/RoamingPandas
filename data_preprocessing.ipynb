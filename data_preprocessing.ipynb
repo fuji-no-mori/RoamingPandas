{
 "cells": [
  {
   "cell_type": "markdown",
   "id": "b7d76688-8a84-4315-986b-3a1ee0e2aef3",
   "metadata": {},
   "source": [
    "# Housing Market Data"
   ]
  },
  {
   "cell_type": "code",
   "execution_count": null,
   "id": "367df113-2b20-4113-806a-e5b776dd3e25",
   "metadata": {},
   "outputs": [],
   "source": [
    "import pandas as pd\n",
    "import numpy as np\n",
    "import matplotlib.pyplot as plt\n",
    "import seaborn as sns\n",
    "from sklearn.preprocessing import LabelEncoder, StandardScaler, OneHotEncoder, OrdinalEncoder\n",
    "from sklearn.ensemble import RandomForestClassifier\n",
    "from sklearn.neighbors import KNeighborsClassifier\n",
    "from sklearn.svm import SVC\n",
    "from sklearn.model_selection import train_test_split, GridSearchCV\n",
    "from sklearn.linear_model import LogisticRegression\n",
    "from sklearn.svm import SVC\n",
    "from sklearn.neural_network import MLPClassifier\n",
    "from sklearn.compose import ColumnTransformer\n",
    "from sklearn.metrics import classification_report, confusion_matrix, f1_score, accuracy_score, precision_score, recall_score, classification_report\n",
    "import warnings\n",
    "warnings.filterwarnings('ignore')"
   ]
  },
  {
   "cell_type": "markdown",
   "id": "cb79d52f-d96c-475d-986d-80cef9ba2c22",
   "metadata": {},
   "source": [
    "# Data preprocessing"
   ]
  },
  {
   "cell_type": "code",
   "execution_count": null,
   "id": "97aeb0ea-c31d-40a6-9d17-99014b383e9d",
   "metadata": {},
   "outputs": [],
   "source": [
    "# Load data into dataframe\n",
    "df = pd.read_csv('NY-House-Dataset.csv')"
   ]
  },
  {
   "cell_type": "code",
   "execution_count": null,
   "id": "2f1c7414-4ba1-4369-a8ea-443fd03f8df8",
   "metadata": {},
   "outputs": [],
   "source": [
    "# Drop irrelevant columns\n",
    "df = df.drop(columns=['LONGITUDE', 'LATITUDE','LONG_NAME','STREET_NAME','ADMINISTRATIVE_AREA_LEVEL_2','FORMATTED_ADDRESS','MAIN_ADDRESS','BROKERTITLE','LOCALITY'])\n",
    "df['TYPE'] = df['TYPE'].replace('Condop for sale', 'Condo for sale')\n"
   ]
  },
  {
   "cell_type": "code",
   "execution_count": null,
   "id": "8563031d-00d4-4e05-9f8b-854b34f7b783",
   "metadata": {},
   "outputs": [],
   "source": [
    "# Replace mean values with nan\n",
    "df.loc[(df['BATH'] > 2) & (df['BATH'] < 3), 'BATH'] = pd.NA\n",
    "df.loc[(df['PROPERTYSQFT'] > 2184) & (df['PROPERTYSQFT'] < 2185), 'PROPERTYSQFT'] = pd.NA"
   ]
  },
  {
   "cell_type": "code",
   "execution_count": null,
   "id": "1e4c7ae7-947b-4a29-a9f6-18e4f2361eb9",
   "metadata": {},
   "outputs": [],
   "source": [
    "# Prepare dataframe to predict number of bathrooms\n",
    "df_bath = df.drop(columns=['PROPERTYSQFT'])\n",
    "df_sqft = df.drop(columns=['BATH'])"
   ]
  },
  {
   "cell_type": "code",
   "execution_count": null,
   "id": "efa9cc0d-d030-4139-9729-bbf650b37f76",
   "metadata": {},
   "outputs": [],
   "source": [
    "unique_values = df['TYPE'].unique()\n",
    "unique_values"
   ]
  },
  {
   "cell_type": "code",
   "execution_count": null,
   "id": "1bb5caf9-a0e0-49ca-b657-3b44ab8051a9",
   "metadata": {},
   "outputs": [],
   "source": [
    "#Encode categorical values\n",
    "encoder = OrdinalEncoder(categories=[['Manhattan', 'New York County', 'Richmond County', 'Kings County',\n",
    "       'New York', 'East Bronx', 'Brooklyn', 'The Bronx', 'Queens',\n",
    "       'Staten Island', 'Queens County', 'Bronx County', 'Coney Island',\n",
    "       'Brooklyn Heights', 'Jackson Heights', 'Riverdale', 'Rego Park',\n",
    "       'Fort Hamilton', 'Flushing', 'Dumbo', 'Snyder Avenue']])\n",
    "df_bath['SUBLOCALITY_ENCODED'] = encoder.fit_transform(df[['SUBLOCALITY']])\n",
    "\n",
    "encoder = OrdinalEncoder(categories=[['Condo for sale', 'House for sale', 'Townhouse for sale',\n",
    "       'Co-op for sale', 'Multi-family home for sale', 'For sale',\n",
    "       'Contingent', 'Land for sale', 'Foreclosure', 'Pending',\n",
    "       'Coming Soon', 'Mobile house for sale']])\n",
    "df_bath['TYPE_ENCODED'] = encoder.fit_transform(df[['TYPE']])\n",
    "\n",
    "df_bath = df_bath.drop(columns=['SUBLOCALITY','STATE','ADDRESS','TYPE'])\n",
    "df_bath\n"
   ]
  },
  {
   "cell_type": "markdown",
   "id": "aeca6296-1b44-44f4-9d2a-c65caeb0808f",
   "metadata": {},
   "source": [
    "# Model Training"
   ]
  },
  {
   "cell_type": "code",
   "execution_count": null,
   "id": "644be206-571c-4004-b567-f97def2a0824",
   "metadata": {},
   "outputs": [],
   "source": [
    "# Separate rows with NaN values\n",
    "df_bath_nan = df_bath[df_bath.isna().any(axis=1)]\n",
    "\n",
    "# Separate rows without NaN values\n",
    "df_bath_without_nan = df_bath[df_bath.notna().all(axis=1)]"
   ]
  },
  {
   "cell_type": "markdown",
   "id": "94210786-67b4-4219-9a0e-33048436b1dc",
   "metadata": {},
   "source": [
    "# KNN Model"
   ]
  },
  {
   "cell_type": "code",
   "execution_count": null,
   "id": "28a8f277-cc7d-49e2-a5f9-5552ef74e371",
   "metadata": {},
   "outputs": [],
   "source": [
    "# Split into features (X) and target variable (y)\n",
    "X = df_bath_without_nan.drop(columns=['BATH'])\n",
    "y = df_bath_without_nan['BATH']\n",
    "\n",
    "# Split into training and testing sets\n",
    "X_train, X_test, y_train, y_test = train_test_split(X, y, test_size=0.2, random_state=42)\n",
    "\n",
    "# Initialize the KNN classifier with k=5\n",
    "knn_model = KNeighborsClassifier(n_neighbors=5)\n",
    "\n",
    "# Train the model\n",
    "knn_model.fit(X_train, y_train)\n",
    "\n",
    "# Make predictions on the test set\n",
    "y_pred = knn_model.predict(X_test)\n",
    "y_pred\n",
    "\n",
    "f1 = f1_score(y_test, y_pred,average='weighted', zero_division= np.nan)\n",
    "accuracy = accuracy_score(y_test, y_pred)\n",
    "recall = recall_score(y_test, y_pred,average='weighted')\n",
    "precision = precision_score(y_test, y_pred,average='weighted', zero_division= np.nan)\n",
    "print(\"Accuracy:\", accuracy)\n",
    "print(\"F1 Score:\", f1)\n",
    "print(\"Recall:\", recall)\n",
    "print(\"Precision:\", precision)"
   ]
  },
  {
   "cell_type": "markdown",
   "id": "09c3b23a-e8c8-486b-84b4-cf68b78f3ed3",
   "metadata": {},
   "source": [
    "# Random Forest"
   ]
  },
  {
   "cell_type": "code",
   "execution_count": null,
   "id": "f053c2e7-a265-4851-863f-0399ef525370",
   "metadata": {
    "scrolled": true
   },
   "outputs": [],
   "source": [
    "# Split into features (X) and target variable (y)\n",
    "X = df_bath_without_nan.drop(columns=['BATH'])\n",
    "y = df_bath_without_nan['BATH']\n",
    "\n",
    "# Split into training and testing sets\n",
    "X_train, X_test, y_train, y_test = train_test_split(X, y, test_size=0.2, random_state=42)\n",
    "\n",
    "# Initialize the Random Forest Classifier\n",
    "rf_model = RandomForestClassifier(n_estimators=100, random_state=42)\n",
    "\n",
    "# Train the model\n",
    "rf_model.fit(X_train, y_train)\n",
    "\n",
    "y_pred = rf_model.predict(X_test)\n",
    "y_pred\n",
    "\n",
    "f1 = f1_score(y_test, y_pred,average='weighted', zero_division= np.nan)\n",
    "accuracy = accuracy_score(y_test, y_pred)\n",
    "recall = recall_score(y_test, y_pred,average='weighted')\n",
    "precision = precision_score(y_test, y_pred,average='weighted', zero_division= np.nan)\n",
    "print(\"Accuracy:\", accuracy)\n",
    "print(\"F1 Score:\", f1)\n",
    "print(\"Recall:\", recall)\n",
    "print(\"Precision:\", precision)"
   ]
  },
  {
   "cell_type": "markdown",
   "id": "09e6c876-baf3-4682-8b66-8f447c18ac22",
   "metadata": {},
   "source": [
    "# Support vector machines(SVM)"
   ]
  },
  {
   "cell_type": "code",
   "execution_count": null,
   "id": "8fd543ee-77b9-4fcb-a369-fd3d07a52c9d",
   "metadata": {},
   "outputs": [],
   "source": [
    "# Split into features (X) and target variable (y)\n",
    "X = df_bath_without_nan.drop(columns=['BATH'])\n",
    "y = df_bath_without_nan['BATH']\n",
    "\n",
    "# Split into training and testing sets\n",
    "X_train, X_test, y_train, y_test = train_test_split(X, y, test_size=0.2, random_state=42)\n",
    "\n",
    "scaler = StandardScaler()\n",
    "X_train_scaled = scaler.fit_transform(X_train)\n",
    "X_test_scaled = scaler.transform(X_test)\n",
    "\n",
    "# Create an SVM model with a linear kernel\n",
    "svm_model = SVC(kernel='linear', random_state=42)\n",
    "\n",
    "# Train the model\n",
    "svm_model.fit(X_train_scaled, y_train)\n",
    "\n",
    "# Make predictions on the test set\n",
    "y_pred = svm_model.predict(X_test_scaled)\n",
    "\n",
    "# Evaluate the model's accuracy\n",
    "f1 = f1_score(y_test, y_pred,average='weighted', zero_division= np.nan)\n",
    "accuracy = accuracy_score(y_test, y_pred)\n",
    "recall = recall_score(y_test, y_pred,average='weighted', zero_division= np.nan)\n",
    "precision = precision_score(y_test, y_pred,average='weighted', zero_division= np.nan)\n",
    "\n",
    "print(\"Accuracy:\", accuracy)\n",
    "print(\"F1 Score:\", f1)\n",
    "print(\"Recall:\", recall)\n",
    "print(\"Precision:\", precision)"
   ]
  }
 ],
 "metadata": {
  "kernelspec": {
   "display_name": "Python 3 (ipykernel)",
   "language": "python",
   "name": "python3"
  },
  "language_info": {
   "codemirror_mode": {
    "name": "ipython",
    "version": 3
   },
   "file_extension": ".py",
   "mimetype": "text/x-python",
   "name": "python",
   "nbconvert_exporter": "python",
   "pygments_lexer": "ipython3",
   "version": "3.13.0"
  }
 },
 "nbformat": 4,
 "nbformat_minor": 5
}
